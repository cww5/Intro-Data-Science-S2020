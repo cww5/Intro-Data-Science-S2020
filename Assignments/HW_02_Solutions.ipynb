{
 "cells": [
  {
   "cell_type": "markdown",
   "metadata": {},
   "source": [
    "## Author: Connor Watson\n",
    "## Date: 20200207\n",
    "## CS301-006, Professor Watson\n",
    "## HW02 Solution\n",
    "The purpose of this assignment is to help students practice using Python to create solutions for common statistics problems.\n",
    "\n",
    "In addition, students gain practice to using someone else's pre-defined functions in order to build out a solution.\n",
    "\n",
    "link to the git repo (ex: https://github.com/cww5/Intro-Data-Science-S2020)"
   ]
  },
  {
   "cell_type": "code",
   "execution_count": 1,
   "metadata": {},
   "outputs": [],
   "source": [
    "import numpy as np\n",
    "import math"
   ]
  },
  {
   "cell_type": "markdown",
   "metadata": {},
   "source": [
    "#### Use these five samples to test the functions"
   ]
  },
  {
   "cell_type": "code",
   "execution_count": 2,
   "metadata": {},
   "outputs": [],
   "source": [
    "grades = [0, 0, 14, 35, 63, 66, 75, 77, 78, 80, 81, 81, 87, 89, 90, 91, 100]"
   ]
  },
  {
   "cell_type": "code",
   "execution_count": 3,
   "metadata": {},
   "outputs": [],
   "source": [
    "times = [5, 10, 10, 15, 15, 15, 15, 20, 20, 20, 25, 30, 30, 40, 40, 45, 60, 60, 65, 89]"
   ]
  },
  {
   "cell_type": "code",
   "execution_count": 4,
   "metadata": {},
   "outputs": [],
   "source": [
    "exams = [int(num) for num in '28 43 48 51 43 30 55 44 48 33 45 37 37 42 38'.split()]"
   ]
  },
  {
   "cell_type": "code",
   "execution_count": 5,
   "metadata": {},
   "outputs": [],
   "source": [
    "ages = [float(num) for num in '32.8 40 41 42 45.5  47 48.5 50 51 52 54 59.2'.split()]"
   ]
  },
  {
   "cell_type": "code",
   "execution_count": 6,
   "metadata": {},
   "outputs": [],
   "source": [
    "calories = [-100, 10, 15, 79, 100, 154, 156, 200, 210, 230, 256, 410, 600]"
   ]
  },
  {
   "cell_type": "markdown",
   "metadata": {},
   "source": [
    "### Solution to Problem 2 below:"
   ]
  },
  {
   "cell_type": "code",
   "execution_count": 8,
   "metadata": {},
   "outputs": [],
   "source": [
    "def q_summary_V1(numbers):\n",
    "    '''\n",
    "    This function takes in a list of numbers and uses numpy quantile functions\n",
    "    to calculate quartile1, quartile2, and quartile3. This function also determines\n",
    "    if there are any outliers in the input set.\n",
    "    '''\n",
    "    nums = sorted(numbers)\n",
    "    q1 = np.quantile(nums, 0.25)\n",
    "    q2 = np.quantile(nums, 0.5)\n",
    "    q3 = np.quantile(nums, 0.75)\n",
    "    iqr = q3 - q1\n",
    "    lower, upper = q1 - 1.5*iqr, q3 + 1.5*iqr\n",
    "    \n",
    "    outs, safe = [], []\n",
    "    for n in nums:\n",
    "        if n >= lower and n <= upper:\n",
    "            safe.append(n)\n",
    "        else:\n",
    "            outs.append(n)\n",
    "    print('The following are outliers: {}'.format(outs))\n",
    "    d = {'min':min(safe), 'q1':q1, 'q2':q2, 'q3':q3, 'max':max(safe)}\n",
    "    return d"
   ]
  },
  {
   "cell_type": "code",
   "execution_count": null,
   "metadata": {},
   "outputs": [],
   "source": []
  },
  {
   "cell_type": "markdown",
   "metadata": {},
   "source": [
    "#### Below are the test case function calls:"
   ]
  },
  {
   "cell_type": "code",
   "execution_count": 9,
   "metadata": {},
   "outputs": [
    {
     "name": "stdout",
     "output_type": "stream",
     "text": [
      "The following are outliers: [0, 0, 14]\n",
      "{'min': 35, 'q1': 63.0, 'q2': 78.0, 'q3': 87.0, 'max': 100}\n"
     ]
    }
   ],
   "source": [
    "print(q_summary_V1(grades))"
   ]
  },
  {
   "cell_type": "code",
   "execution_count": 10,
   "metadata": {},
   "outputs": [
    {
     "name": "stdout",
     "output_type": "stream",
     "text": [
      "The following are outliers: [89]\n",
      "{'min': 5, 'q1': 15.0, 'q2': 22.5, 'q3': 41.25, 'max': 65}\n"
     ]
    }
   ],
   "source": [
    "print(q_summary_V1(times))"
   ]
  },
  {
   "cell_type": "code",
   "execution_count": 11,
   "metadata": {},
   "outputs": [
    {
     "name": "stdout",
     "output_type": "stream",
     "text": [
      "The following are outliers: []\n",
      "{'min': 28, 'q1': 37.0, 'q2': 43.0, 'q3': 46.5, 'max': 55}\n"
     ]
    }
   ],
   "source": [
    "print(q_summary_V1(exams))"
   ]
  },
  {
   "cell_type": "code",
   "execution_count": 12,
   "metadata": {},
   "outputs": [
    {
     "name": "stdout",
     "output_type": "stream",
     "text": [
      "The following are outliers: []\n",
      "{'min': 32.8, 'q1': 41.75, 'q2': 47.75, 'q3': 51.25, 'max': 59.2}\n"
     ]
    }
   ],
   "source": [
    "print(q_summary_V1(ages))"
   ]
  },
  {
   "cell_type": "code",
   "execution_count": 13,
   "metadata": {},
   "outputs": [
    {
     "name": "stdout",
     "output_type": "stream",
     "text": [
      "The following are outliers: [600]\n",
      "{'min': -100, 'q1': 79.0, 'q2': 156.0, 'q3': 230.0, 'max': 410}\n"
     ]
    }
   ],
   "source": [
    "print(q_summary_V1(calories))"
   ]
  },
  {
   "cell_type": "markdown",
   "metadata": {},
   "source": [
    "### Helper Functions to Problem 3 below:"
   ]
  },
  {
   "cell_type": "code",
   "execution_count": 14,
   "metadata": {},
   "outputs": [],
   "source": [
    "def get_quantile_indexes(n, p):\n",
    "    '''\n",
    "    Calculate index values as input for interpolation\n",
    "    \n",
    "    input\n",
    "    _____\n",
    "    n (list) - the list of numbers\n",
    "    p (float) - the percentage corresponding to the quantile (ex:0.25)\n",
    "    \n",
    "    output\n",
    "    ______\n",
    "    l, i, u (float) - the corresponding x1, x, x1 values as calculated via class\n",
    "    '''\n",
    "    i = p*(n+1) - 1\n",
    "    l = np.floor(i)\n",
    "    u = np.ceil(i)\n",
    "    return l,i,u\n",
    "\n",
    "\n",
    "def get_quantile(nums, q):\n",
    "    '''\n",
    "    Use the in-class method of interpolation to calculate the quantile\n",
    "    \n",
    "    input\n",
    "    _____\n",
    "    nums (list) - the list of numbers\n",
    "    q (float) - the quantile desired\n",
    "    \n",
    "    output\n",
    "    ______\n",
    "    y (int/float) - this is the value in nums at the given quantile q\n",
    "    '''\n",
    "    x1, x, x2 = get_quantile_indexes(len(nums), q)\n",
    "    if np.floor(x) == x1 and np.ceil(x) == x1:\n",
    "        x = int(x)\n",
    "        y = nums[x]\n",
    "        # print('x = {}, y = {}'.format(x, y))\n",
    "        return y\n",
    "        \n",
    "    # print('x1, x, x2 = {}, {}, {}'.format(x1, x, x2))\n",
    "    y1, y2 = nums[int(x1)], nums[int(x2)]\n",
    "    # print('y1, y2 = {}, {}'.format(y1, y2))\n",
    "    y = (x - x1) * (y1-y2) / (x1 - x2) + y1\n",
    "    # print('y =', y)\n",
    "    return y"
   ]
  },
  {
   "cell_type": "markdown",
   "metadata": {},
   "source": [
    "### Solution to Problem 3"
   ]
  },
  {
   "cell_type": "code",
   "execution_count": 15,
   "metadata": {},
   "outputs": [],
   "source": [
    "def q_summary_V2(numbers):\n",
    "    '''\n",
    "    This function takes in a list of numbers and uses the pre-defined helper functions\n",
    "    quantile functions to calculate quartile1, quartile2, and quartile3. This function \n",
    "    also determines if there are any outliers in the input set. The index positions\n",
    "    for the quantiles are determined via interpolation.\n",
    "    '''\n",
    "    nums = sorted(numbers)\n",
    "    q1 = get_quantile(nums, 0.25)\n",
    "    q2 = get_quantile(nums, 0.5)\n",
    "    q3 = get_quantile(nums, 0.75)\n",
    "    iqr = q3 - q1\n",
    "    lower, upper = q1 - 1.5*iqr, q3 + 1.5*iqr\n",
    "    \n",
    "    outs, safe = [], []\n",
    "    for n in nums:\n",
    "        if n >= lower and n <= upper:\n",
    "            safe.append(n)\n",
    "        else:\n",
    "            outs.append(n)\n",
    "    print('The following are outliers: {}'.format(outs))\n",
    "    d = {'min':min(safe), 'q1':q1, 'q2':q2, 'q3':q3, 'max':max(safe)}\n",
    "    return d"
   ]
  },
  {
   "cell_type": "markdown",
   "metadata": {},
   "source": [
    "#### Below are the test case function calls:"
   ]
  },
  {
   "cell_type": "code",
   "execution_count": 16,
   "metadata": {},
   "outputs": [
    {
     "name": "stdout",
     "output_type": "stream",
     "text": [
      "The following are outliers: []\n",
      "{'min': 0, 'q1': 49.0, 'q2': 78, 'q3': 88.0, 'max': 100}\n"
     ]
    }
   ],
   "source": [
    "print(q_summary_V2(grades))"
   ]
  },
  {
   "cell_type": "code",
   "execution_count": 17,
   "metadata": {},
   "outputs": [
    {
     "name": "stdout",
     "output_type": "stream",
     "text": [
      "The following are outliers: [89]\n",
      "{'min': 5, 'q1': 15.0, 'q2': 22.5, 'q3': 43.75, 'max': 65}\n"
     ]
    }
   ],
   "source": [
    "print(q_summary_V2(times))"
   ]
  },
  {
   "cell_type": "code",
   "execution_count": 18,
   "metadata": {},
   "outputs": [
    {
     "name": "stdout",
     "output_type": "stream",
     "text": [
      "The following are outliers: []\n",
      "{'min': 28, 'q1': 37, 'q2': 43, 'q3': 48, 'max': 55}\n"
     ]
    }
   ],
   "source": [
    "print(q_summary_V2(exams))"
   ]
  },
  {
   "cell_type": "code",
   "execution_count": 19,
   "metadata": {},
   "outputs": [
    {
     "name": "stdout",
     "output_type": "stream",
     "text": [
      "The following are outliers: []\n",
      "{'min': 32.8, 'q1': 41.25, 'q2': 47.75, 'q3': 51.75, 'max': 59.2}\n"
     ]
    }
   ],
   "source": [
    "print(q_summary_V2(ages))"
   ]
  },
  {
   "cell_type": "code",
   "execution_count": 20,
   "metadata": {},
   "outputs": [
    {
     "name": "stdout",
     "output_type": "stream",
     "text": [
      "The following are outliers: [600]\n",
      "{'min': -100, 'q1': 47.0, 'q2': 156, 'q3': 243.0, 'max': 410}\n"
     ]
    }
   ],
   "source": [
    "print(q_summary_V2(calories))"
   ]
  },
  {
   "cell_type": "code",
   "execution_count": null,
   "metadata": {},
   "outputs": [],
   "source": []
  }
 ],
 "metadata": {
  "kernelspec": {
   "display_name": "Python 3",
   "language": "python",
   "name": "python3"
  },
  "language_info": {
   "codemirror_mode": {
    "name": "ipython",
    "version": 3
   },
   "file_extension": ".py",
   "mimetype": "text/x-python",
   "name": "python",
   "nbconvert_exporter": "python",
   "pygments_lexer": "ipython3",
   "version": "3.7.3"
  }
 },
 "nbformat": 4,
 "nbformat_minor": 2
}
